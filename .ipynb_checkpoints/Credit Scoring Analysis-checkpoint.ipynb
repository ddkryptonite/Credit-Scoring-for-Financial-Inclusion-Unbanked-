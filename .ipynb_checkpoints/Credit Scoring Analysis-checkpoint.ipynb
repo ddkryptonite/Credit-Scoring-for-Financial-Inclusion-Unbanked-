{
 "cells": [
  {
   "cell_type": "code",
   "execution_count": null,
   "id": "6d796c03-9338-4220-a896-9774018e2981",
   "metadata": {},
   "outputs": [],
   "source": [
    "import mysql.connector\n",
    "import pandas as pd"
   ]
  }
 ],
 "metadata": {
  "kernelspec": {
   "display_name": "Python 3 (ipykernel)",
   "language": "python",
   "name": "python3"
  },
  "language_info": {
   "name": ""
  }
 },
 "nbformat": 4,
 "nbformat_minor": 5
}
